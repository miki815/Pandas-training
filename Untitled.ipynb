{
 "cells": [
  {
   "cell_type": "code",
   "execution_count": 9,
   "metadata": {},
   "outputs": [
    {
     "name": "stdout",
     "output_type": "stream",
     "text": [
      "1\n",
      "[2, 3, 4]\n"
     ]
    }
   ],
   "source": [
    "a, *b, _ = 1, 2, 3, 4, 5\n",
    "print(a)\n",
    "print(b)\n",
    "#print(c)"
   ]
  },
  {
   "cell_type": "code",
   "execution_count": 11,
   "metadata": {},
   "outputs": [
    {
     "name": "stdout",
     "output_type": "stream",
     "text": [
      "Fail\n"
     ]
    }
   ],
   "source": [
    "condition = 0\n",
    "print(\"Success\") if condition else print(\"Fail\")"
   ]
  },
  {
   "cell_type": "code",
   "execution_count": 13,
   "metadata": {},
   "outputs": [],
   "source": [
    "boys = ['miki', 'vesa', 'bakic', 'joca']\n",
    "girls = ['nadja', 'ivona', 'ana', 'kurva']"
   ]
  },
  {
   "cell_type": "code",
   "execution_count": 16,
   "metadata": {},
   "outputs": [
    {
     "name": "stdout",
     "output_type": "stream",
     "text": [
      "miki is with nadja\n",
      "vesa is with ivona\n",
      "bakic is with ana\n",
      "joca is with kurva\n",
      "0: miki\n",
      "1: vesa\n",
      "2: bakic\n",
      "3: joca\n"
     ]
    }
   ],
   "source": [
    "for boy, girl in zip(boys, girls):\n",
    "    print(f\"{boy} is with {girl}\")\n",
    "for ind, boy in enumerate(boys):\n",
    "    print(f\"{ind}: {boy}\")"
   ]
  },
  {
   "cell_type": "code",
   "execution_count": null,
   "metadata": {},
   "outputs": [],
   "source": []
  }
 ],
 "metadata": {
  "kernelspec": {
   "display_name": "Python 3",
   "language": "python",
   "name": "python3"
  },
  "language_info": {
   "codemirror_mode": {
    "name": "ipython",
    "version": 3
   },
   "file_extension": ".py",
   "mimetype": "text/x-python",
   "name": "python",
   "nbconvert_exporter": "python",
   "pygments_lexer": "ipython3",
   "version": "3.8.3"
  }
 },
 "nbformat": 4,
 "nbformat_minor": 4
}
